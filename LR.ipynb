{
 "cells": [
  {
   "cell_type": "markdown",
   "metadata": {},
   "source": [
    "* 线性回归是最基本的机器学习方式，使用线性模型对数据进行预测，一般使用最小二乘法和梯度下降法进行参数的优化。本文使用梯度下降法。梯度下降法主要有批量梯度下降算法和随机梯度下降算法两种。"
   ]
  },
  {
   "cell_type": "code",
   "execution_count": 6,
   "metadata": {},
   "outputs": [
    {
     "name": "stdout",
     "output_type": "stream",
     "text": [
      "[[ 1.]\n",
      " [ 1.]\n",
      " [ 2.]\n",
      " [ 3.]]\n"
     ]
    }
   ],
   "source": [
    "import numpy as np\n",
    "def loadDataSet():\n",
    "    dataMat = np.array([[1,2,3,4],\n",
    "                       [1,1,0,1],\n",
    "                       [1,1,1,1],\n",
    "                       [1,1,1,0],\n",
    "                       [1,0,0,1],\n",
    "                       [1,2,0,1],\n",
    "                       [1,1,2,1]])\n",
    "    labelMat = np.array([[21],[5],[7],[4],[4],[6],[9]])\n",
    "    return dataMat, labelMat\n",
    "\n",
    "# 批量梯度下降算法\n",
    "def gradAscentAll(dataMat, labelMat):\n",
    "    m,n = np.shape(dataMat)\n",
    "    alpha = 0.001\n",
    "    maxRecycles = 50000\n",
    "    weights = np.ones((n,1))\n",
    "    for i in range(maxRecycles):\n",
    "        tmpResult = np.dot(dataMat, weights)\n",
    "        errors = labelMat - tmpResult\n",
    "        weights = weights + alpha * np.dot(dataMat.transpose(), errors)\n",
    "    return weights\n",
    "\n",
    "# 随机梯度下降算法\n",
    "def gradAscentRandomA(dataArray, labelArray):\n",
    "    dataMat = np.mat(dataArray)\n",
    "    labelMat = np.mat(labelArray)\n",
    "    m,n = np.shape(dataMat)\n",
    "    alpha = 0.01\n",
    "    maxRecycles = 100000\n",
    "    weights = np.array([[1],[1],[1],[1]])\n",
    "    num = 0\n",
    "    while (num < maxRecycles):\n",
    "        for i in range(m):\n",
    "            tmpResult = dataMat[i] * weights\n",
    "            diff = labelMat[i] - tmpResult\n",
    "            weights = weights + alpha * dataMat[i].transpose() * diff\n",
    "        num = num + m\n",
    "    return weights\n",
    "\n",
    "# 算法同上，不过设置最大误差范围\n",
    "def gradAscentRandomB(dataArray, labelArray):\n",
    "    dataMat = np.mat(dataArray)\n",
    "    labelMat = np.mat(labelArray)\n",
    "    m,n = np.shape(dataMat)\n",
    "    alpha = 0.01\n",
    "    maxRecycles = 100000\n",
    "    weights = np.array([[1],[1],[1],[1]])\n",
    "    error = np.array([[0],[0],[0],[0]])\n",
    "    done = False\n",
    "    num = 0\n",
    "    while True:\n",
    "        for i in range(m):\n",
    "            tmpResult = dataMat[i] * weights\n",
    "            diff = labelMat[i] - tmpResult\n",
    "            weights = weights + alpha * dataMat[i].transpose() * diff\n",
    "            if np.linalg.norm(weights - error) < 0.00000000005:\n",
    "                done = True\n",
    "                break\n",
    "            error = weights\n",
    "        if done:\n",
    "            print(\"Done\")\n",
    "            break\n",
    "        num = num + m\n",
    "        if num > maxRecycles:\n",
    "            print(\"Max\")\n",
    "            break;\n",
    "    return weights\n",
    "\n",
    "dataMat, labelMat = loadDataSet()\n",
    "#result = gradAscent(dataMat,labelMat)\n",
    "#print(result)\n",
    "resultA = gradAscentRandomA(dataMat,labelMat)\n",
    "print(resultA)"
   ]
  },
  {
   "cell_type": "code",
   "execution_count": null,
   "metadata": {
    "collapsed": true
   },
   "outputs": [],
   "source": []
  }
 ],
 "metadata": {
  "kernelspec": {
   "display_name": "Python 3",
   "language": "python",
   "name": "python3"
  },
  "language_info": {
   "codemirror_mode": {
    "name": "ipython",
    "version": 3
   },
   "file_extension": ".py",
   "mimetype": "text/x-python",
   "name": "python",
   "nbconvert_exporter": "python",
   "pygments_lexer": "ipython3",
   "version": "3.6.3"
  }
 },
 "nbformat": 4,
 "nbformat_minor": 2
}
