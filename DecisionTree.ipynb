{
 "cells": [
  {
   "cell_type": "code",
   "execution_count": 12,
   "metadata": {},
   "outputs": [
    {
     "name": "stdout",
     "output_type": "stream",
     "text": [
      "0.9709505944546686\n",
      "0\n"
     ]
    }
   ],
   "source": [
    "import numpy as np\n",
    "from math import log\n",
    "\n",
    "def createDataSet():\n",
    "    group = [[1,1,'A'], [1,1,'A'], [1,0,'B'], [0,1,'B'],[0,1,'B']]\n",
    "    return group\n",
    "\n",
    "# 计算信息熵\n",
    "def calcShannonEnt(dataSet):\n",
    "    count = len(dataSet)\n",
    "    labelsCount = {}\n",
    "    for featVec in dataSet:\n",
    "        feat = featVec[-1]\n",
    "        if feat not in labelsCount.keys():\n",
    "            labelsCount[feat] = 0\n",
    "        labelsCount[feat] += 1\n",
    "    result = 0.0\n",
    "    for key in labelsCount:\n",
    "        prop = float(labelsCount[key] / count)\n",
    "        result += (-prop)*log(prop,2)\n",
    "    return result\n",
    "\n",
    "group = createDataSet()\n",
    "shannonEnt = calcShannonEnt(group)\n",
    "print(shannonEnt)\n",
    "\n",
    "def splitDataSet(dataSet, index, value):\n",
    "    result = []\n",
    "    for featVec in dataSet:\n",
    "        if featVec[index] == value:\n",
    "            tmpVec = featVec[:index]\n",
    "            tmpVec.extend(featVec[index+1:])\n",
    "            result.append(tmpVec)\n",
    "    return result\n",
    "\n",
    "#splitDataSet = splitDataSet(group, 1, 1.0)\n",
    "#print(splitDataSet)\n",
    "\n",
    "def bestFeatureToSplit(dataSet):\n",
    "    m = len(dataSet)\n",
    "    k = len(dataSet[0]) - 1\n",
    "    shannonEnt = calcShannonEnt(dataSet)\n",
    "    bestInfoGain = 0\n",
    "    bestIndex = -1\n",
    "    for i in range(k):\n",
    "        featList = [example[i] for example in dataSet]\n",
    "        featSet = set(featList)\n",
    "        splitShannonEnt = 0\n",
    "        for feat in featSet:\n",
    "            subDataSet = splitDataSet(dataSet,i,feat)\n",
    "            prop = len(subDataSet) / float(m)\n",
    "            splitShannonEnt += prop * calcShannonEnt(subDataSet)\n",
    "            infoGain = shannonEnt - splitShannonEnt\n",
    "            if infoGain > bestInfoGain:\n",
    "                bestInfoGain = infoGain\n",
    "                bestIndex = i\n",
    "    return bestIndex\n",
    "\n",
    "bestIndex = bestFeatureToSplit(group)\n",
    "print(bestIndex)"
   ]
  },
  {
   "cell_type": "code",
   "execution_count": null,
   "metadata": {
    "collapsed": true
   },
   "outputs": [],
   "source": []
  }
 ],
 "metadata": {
  "kernelspec": {
   "display_name": "Python 3",
   "language": "python",
   "name": "python3"
  },
  "language_info": {
   "codemirror_mode": {
    "name": "ipython",
    "version": 3
   },
   "file_extension": ".py",
   "mimetype": "text/x-python",
   "name": "python",
   "nbconvert_exporter": "python",
   "pygments_lexer": "ipython3",
   "version": "3.6.3"
  }
 },
 "nbformat": 4,
 "nbformat_minor": 2
}
