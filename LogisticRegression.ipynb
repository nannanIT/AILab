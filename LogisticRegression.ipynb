{
 "cells": [
  {
   "cell_type": "code",
   "execution_count": 26,
   "metadata": {},
   "outputs": [
    {
     "name": "stdout",
     "output_type": "stream",
     "text": [
      "[[ 1.01998838]\n",
      " [ 1.02497677]\n",
      " [ 1.02996516]]\n"
     ]
    }
   ],
   "source": [
    "import numpy as np\n",
    "import math\n",
    "\n",
    "def sigmoid(X):\n",
    "    return 1.0/(1 + math.exp(-X))\n",
    "\n",
    "def batchGradAscent(dataSet, labels):\n",
    "    dataMat = np.mat(dataSet)\n",
    "    labelsMat = np.mat(labels).transpose()\n",
    "    m,n = np.shape(dataMat)\n",
    "    weights = np.ones((n,1))\n",
    "    alpha = 0.001\n",
    "    maxCycles = 5\n",
    "    for i in range(maxCycles):\n",
    "        result = dataMat * weights\n",
    "        resultArr = result.getA1()\n",
    "        sigmoidArr = [sigmoid(i) for i in resultArr]\n",
    "        resultMat = np.mat(sigmoidArr).transpose()\n",
    "        error = resultMat - labelsMat\n",
    "        weights += alpha * dataMat.transpose() * error\n",
    "    return weights\n",
    "\n",
    "dataSet = [[1,2,3], [4,5,6]]\n",
    "labels = [1,0]\n",
    "weights = batchGradAscent(dataSet, labels)\n",
    "print(weights)"
   ]
  },
  {
   "cell_type": "code",
   "execution_count": null,
   "metadata": {
    "collapsed": true
   },
   "outputs": [],
   "source": []
  },
  {
   "cell_type": "code",
   "execution_count": null,
   "metadata": {
    "collapsed": true
   },
   "outputs": [],
   "source": []
  }
 ],
 "metadata": {
  "kernelspec": {
   "display_name": "Python 3",
   "language": "python",
   "name": "python3"
  },
  "language_info": {
   "codemirror_mode": {
    "name": "ipython",
    "version": 3
   },
   "file_extension": ".py",
   "mimetype": "text/x-python",
   "name": "python",
   "nbconvert_exporter": "python",
   "pygments_lexer": "ipython3",
   "version": "3.6.3"
  }
 },
 "nbformat": 4,
 "nbformat_minor": 2
}
