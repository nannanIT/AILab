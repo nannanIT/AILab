{
 "cells": [
  {
   "cell_type": "code",
   "execution_count": 18,
   "metadata": {},
   "outputs": [
    {
     "name": "stdout",
     "output_type": "stream",
     "text": [
      "[1, 1, 1]\n",
      "[0.72008229982309557, 0.77777777777777779, 0.72008229982309557]\n",
      "[1 0 2]\n",
      "[[1, 1, 1], [1, 2, 3]]\n"
     ]
    }
   ],
   "source": [
    "import numpy as np\n",
    "import operator\n",
    "\n",
    "# 余弦公式计算距离\n",
    "def cosDistance(arrayA, arrayB):\n",
    "    vectA = np.array(arrayA)\n",
    "    vectB = np.array(arrayB)\n",
    "    sqDiffMatA = vectA**2\n",
    "    sqDiffMatB = vectB**2\n",
    "    sqDistanceA = sqDiffMatA.sum(0) \n",
    "    sqDistanceB = sqDiffMatB.sum(0)\n",
    "    sqModA = sqDistanceA ** 0.5\n",
    "    sqModB = sqDistanceB ** 0.5\n",
    "    vectAB = np.dot(vectA, vectB)\n",
    "    return vectAB / (sqModA * sqModB)\n",
    "\n",
    "#cd = cosDistance([1,1,2],[1,2,3])\n",
    "#print(cd)\n",
    "\n",
    "# 获取距离最近的元素\n",
    "def getNeareastNeighbor(vectA, neighbors):\n",
    "    maxCosDis = 0.0\n",
    "    minVect = []\n",
    "    for vec in neighbors:\n",
    "        dis = cosDistance(vectA, vec)\n",
    "        if dis > maxCosDis:\n",
    "            maxCosDis = dis\n",
    "            minVect = vec\n",
    "    return minVect\n",
    "\n",
    "minVect = getNeareastNeighbor([1,5,1],[[1,2,3], [1,1,1], [3,2,1]])\n",
    "print(minVect)\n",
    "\n",
    "#  获取距离最近的k个元素\n",
    "def getKthNeareastNeighbor(vectA, neighbors, k):\n",
    "    cosDistArray = []\n",
    "    for vec in neighbors:\n",
    "        dis = cosDistance(vectA, vec)\n",
    "        cosDistArray.append(dis)\n",
    "    sortedDistIndex = np.argsort(-(np.array(cosDistArray)))\n",
    "    print(cosDistArray)\n",
    "    print(sortedDistIndex)\n",
    "    result = []\n",
    "    for i in range(k):\n",
    "        result.append(neighbors[sortedDistIndex[i]])\n",
    "    return result\n",
    "\n",
    "disKthNeighbor = getKthNeareastNeighbor([1,5,1],[[1,2,3],[1,1,1],[3,2,1]], 2)\n",
    "print(disKthNeighbor)"
   ]
  },
  {
   "cell_type": "code",
   "execution_count": null,
   "metadata": {
    "collapsed": true
   },
   "outputs": [],
   "source": []
  }
 ],
 "metadata": {
  "kernelspec": {
   "display_name": "Python 3",
   "language": "python",
   "name": "python3"
  },
  "language_info": {
   "codemirror_mode": {
    "name": "ipython",
    "version": 3
   },
   "file_extension": ".py",
   "mimetype": "text/x-python",
   "name": "python",
   "nbconvert_exporter": "python",
   "pygments_lexer": "ipython3",
   "version": "3.6.3"
  }
 },
 "nbformat": 4,
 "nbformat_minor": 2
}
