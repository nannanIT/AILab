{
 "cells": [
  {
   "cell_type": "markdown",
   "metadata": {
    "collapsed": true
   },
   "source": [
    "#####原理\n",
    "* KNN算法是从训练集中找到和新数据最接近的k条记录，然后根据它们的主要分类来决定新数据的类别。该算法涉及3个主要因素：训练集、距离或相似的衡量、k值的大小。\n",
    "***\n",
    "#####优点\n",
    "* 算法简单，精度比较高\n",
    "* 易于理解，易于实现，不需要训练\n",
    "***\n",
    "#####缺点\n",
    "* 计算复杂度高，空间复杂度高\n",
    "* 可解释性比较差\n",
    "***"
   ]
  },
  {
   "cell_type": "code",
   "execution_count": 1,
   "metadata": {},
   "outputs": [
    {
     "name": "stdout",
     "output_type": "stream",
     "text": [
      "B\n"
     ]
    }
   ],
   "source": [
    "import numpy as np\n",
    "import operator\n",
    "\n",
    "def createDataSet():\n",
    "    group = np.array([[1.0, 1.2], [1.1, 1.0], [0.1, 0.2], [0.0, 0.1]])\n",
    "    labels = ['A', 'A', 'B', 'B']\n",
    "    return group, labels\n",
    "    \n",
    "def knn(inx, dataSet, labels, k):\n",
    "    dataSetSize = dataSet.shape[0]\n",
    "    diffMat = np.tile(inx, (dataSetSize, 1)) - dataSet\n",
    "    sqDiffMat = diffMat**2\n",
    "    sqDistances = sqDiffMat.sum(1)\n",
    "    distances = sqDistances**0.5\n",
    "    sortedDistIndicies = distances.argsort()\n",
    "    classCount = {}\n",
    "    for i in range(k):\n",
    "        voteLabel = labels[sortedDistIndicies[i]]\n",
    "        if voteLabel not in classCount.keys():\n",
    "            classCount[voteLabel] = 0\n",
    "        classCount[voteLabel] += 1\n",
    "    sortedClassCount = sorted(classCount.items(), key = operator.itemgetter(1), reverse = True)\n",
    "    return sortedClassCount[0][0]\n",
    "\n",
    "group, labels = createDataSet()\n",
    "result = knn([0.2, 0.1], group, labels, 3)\n",
    "print(result)"
   ]
  }
 ],
 "metadata": {
  "kernelspec": {
   "display_name": "Python 3",
   "language": "python",
   "name": "python3"
  },
  "language_info": {
   "codemirror_mode": {
    "name": "ipython",
    "version": 3
   },
   "file_extension": ".py",
   "mimetype": "text/x-python",
   "name": "python",
   "nbconvert_exporter": "python",
   "pygments_lexer": "ipython3",
   "version": "3.6.3"
  }
 },
 "nbformat": 4,
 "nbformat_minor": 2
}
