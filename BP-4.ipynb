{
 "cells": [
  {
   "cell_type": "code",
   "execution_count": 23,
   "metadata": {},
   "outputs": [
    {
     "name": "stdout",
     "output_type": "stream",
     "text": [
      "0.9621571483368533\n",
      "0.042015683472790395\n"
     ]
    }
   ],
   "source": [
    "# -*- coding: utf-8 -*-\n",
    "import numpy as np\n",
    "import random\n",
    "import math\n",
    "\n",
    "class FNN:\n",
    "    #初始化\n",
    "    def __init__(self,train_data,train_label,hidden_num,output_num):\n",
    "        self.train_data=np.mat(train_data)\n",
    "        self.train_label=train_label\n",
    "        self.hidden_num=hidden_num\n",
    "        self.output_num=output_num\n",
    "        #隐藏层的数据\n",
    "        self.hidden_data=[0 for i in range(hidden_num)]\n",
    "        #输出层的数据\n",
    "        self.output_data=[0 for i in range(output_num)]\n",
    "        #输入层到隐藏层的weight\n",
    "        self.i_h_weight=np.mat([[ random.uniform(-1.0, 1.0) for j in range(hidden_num)] for i in range(len(train_data[0]))])\n",
    "        #隐藏层到输出层的weight\n",
    "        self.h_o_weight=np.mat([[ random.uniform(-1.0, 1.0) for i in range(output_num)] for j in range(hidden_num)])\n",
    "        #隐藏层的b\n",
    "        self.hidden_b=[0 for i in range(hidden_num)]\n",
    "        #输出层的b\n",
    "        self.output_b=[0 for j in range(output_num)]\n",
    "        self.error=[0 for i in range(output_num)]\n",
    "\n",
    "    #sigmod激活函数\n",
    "    def sigmod(self,x):\n",
    "        return 1.0/(1+math.exp(-x))\n",
    "\n",
    "    def sigmoid_derivative(self,x):\n",
    "        return x * (1 - x)\n",
    "\n",
    "\n",
    "    #前馈网络\n",
    "    def feedforward(self,data_index):\n",
    "        # 隐藏层的数据\n",
    "        self.hidden_data = [0 for i in range(self.hidden_num)]\n",
    "        # 输出层的数据\n",
    "        self.output_data = [0 for i in range(self.output_num)]\n",
    "        # 只对一条数据进行训练的\n",
    "        # 得到隐藏层的数据\n",
    "\n",
    "        tmp_total = self.train_data[data_index] * self.i_h_weight + np.mat(self.hidden_b)\n",
    "        tmp_total_arr = tmp_total.getA1()\n",
    "        self.hidden_data = [self.sigmod(v) for v in tmp_total_arr]\n",
    "        #print(self.hidden_data)\n",
    "        #得到输出层的数据\n",
    "        tmp_total_h = np.mat(self.hidden_data) * self.h_o_weight + np.mat(self.output_b)\n",
    "        tmp_total_h_arr = tmp_total_h.getA1()\n",
    "        self.output_data = [self.sigmod(v) for v in tmp_total_h_arr]\n",
    "        return self.output_data[0]\n",
    "\n",
    "    #BP反馈网络\n",
    "    def feedback(self,MM,data_index):\n",
    "        # 前馈网络\n",
    "        self.feedforward(data_index)\n",
    "\n",
    "        # #更新隐藏层到输出层的weight和b\n",
    "        self.error = np.array(self.train_label[data_index]) - self.output_data\n",
    "        out_derivative_deltas = np.array(self.output_data)*(np.ones(self.output_num)-self.output_data)\n",
    "        tmp_h_o_weight=MM*np.mat(self.hidden_data).transpose()*np.mat(np.array(self.error)*out_derivative_deltas)\n",
    "        self.h_o_weight += tmp_h_o_weight\n",
    "        self.output_b+=MM*out_derivative_deltas*self.error\n",
    "        #更行输入层到输出层的weight和b\n",
    "        sum_ek = np.mat(np.array(self.error)*out_derivative_deltas*self.h_o_weight.transpose())\n",
    "        hidden_derivative_deltas = np.array(self.hidden_data) * (np.ones(self.hidden_num)-self.hidden_data)\n",
    "        tmpa=MM*self.train_data[data_index].transpose()*np.mat(hidden_derivative_deltas * sum_ek.getA1())\n",
    "        self.i_h_weight += tmpa\n",
    "        self.hidden_b += MM*(hidden_derivative_deltas * sum_ek.getA1())\n",
    "\n",
    "    #训练\n",
    "    def train(self,train_num,MM,):\n",
    "        for i in range(train_num):\n",
    "            rand_int= i%4;\n",
    "            self.feedback(MM,rand_int)\n",
    "\n",
    "if __name__ == '__main__':\n",
    "    train_data=[ [1, 1],\n",
    "            [0, 1],\n",
    "            [1, 0],\n",
    "            [0, 0],]\n",
    "    train_label=[[0], [1], [1], [0]]\n",
    "    object=FNN(train_data,train_label,5,1)\n",
    "    object.train(100000,0.05)\n",
    "    print(object.feedforward(2))\n",
    "    print(object.feedforward(0))"
   ]
  },
  {
   "cell_type": "code",
   "execution_count": null,
   "metadata": {
    "collapsed": true
   },
   "outputs": [],
   "source": []
  }
 ],
 "metadata": {
  "kernelspec": {
   "display_name": "Python 3",
   "language": "python",
   "name": "python3"
  },
  "language_info": {
   "codemirror_mode": {
    "name": "ipython",
    "version": 3
   },
   "file_extension": ".py",
   "mimetype": "text/x-python",
   "name": "python",
   "nbconvert_exporter": "python",
   "pygments_lexer": "ipython3",
   "version": "3.6.3"
  }
 },
 "nbformat": 4,
 "nbformat_minor": 2
}
